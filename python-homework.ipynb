{
 "cells": [
  {
   "cell_type": "markdown",
   "metadata": {},
   "source": [
    "# breast cancer link:\n",
    "https://www.ebi.ac.uk/arrayexpress/xml/v3/experiments?keywords=breast%20cancer\n",
    "\n",
    "eg1.\n",
    "\n",
    "https://www.ebi.ac.uk/arrayexpress/xml/v3/experiments/E-MTAB-9112/files?kind=sdrf\n",
    "\n",
    "https://www.ebi.ac.uk/arrayexpress/files/E-MTAB-9112/E-MTAB-9112.sdrf.txt"
   ]
  },
  {
   "cell_type": "code",
   "execution_count": 105,
   "metadata": {},
   "outputs": [
    {
     "name": "stdout",
     "output_type": "stream",
     "text": [
      "Collecting wget\n",
      "  Downloading wget-3.2.zip (10 kB)\n",
      "Building wheels for collected packages: wget\n",
      "  Building wheel for wget (setup.py): started\n",
      "  Building wheel for wget (setup.py): finished with status 'done'\n",
      "  Created wheel for wget: filename=wget-3.2-py3-none-any.whl size=9686 sha256=383192f1591b7722bf9904c380595cc00580235f2e089a4720bab0b43d25b5fb\n",
      "  Stored in directory: c:\\users\\可可爱~1\\appdata\\local\\pip\\cache\\wheels\\a1\\b6\\7c\\0e63e34eb06634181c63adacca38b79ff8f35c37e3c13e3c02\n",
      "Successfully built wget\n",
      "Installing collected packages: wget\n",
      "Successfully installed wget-3.2\n",
      "Note: you may need to restart the kernel to use updated packages.\n"
     ]
    }
   ],
   "source": [
    "pip install wget"
   ]
  },
  {
   "cell_type": "code",
   "execution_count": 38,
   "metadata": {},
   "outputs": [],
   "source": [
    "import http.client\n",
    "import json\n",
    "import wget\n",
    "import requests\n",
    "import numpy as np\n",
    "import os"
   ]
  },
  {
   "cell_type": "code",
   "execution_count": 3,
   "metadata": {},
   "outputs": [
    {
     "name": "stdout",
     "output_type": "stream",
     "text": [
      "200 OK\n"
     ]
    }
   ],
   "source": [
    "conn = http.client.HTTPSConnection(\"www.ebi.ac.uk\")\n",
    "conn.request(\"GET\", \"/arrayexpress/json/v3/experiments?keywords=cancer+breast\")\n",
    "r1 = conn.getresponse()\n",
    "print(r1.status, r1.reason)\n",
    "jc = r1.read()\n",
    "conn.close()"
   ]
  },
  {
   "cell_type": "code",
   "execution_count": 4,
   "metadata": {},
   "outputs": [],
   "source": [
    "jsonConfig=json.loads(jc)"
   ]
  },
  {
   "cell_type": "markdown",
   "metadata": {},
   "source": [
    "try:\n",
    "conn = http.client.HTTPSConnection(\"www.ebi.ac.uk\")\n",
    "conn.request(\"GET\", \"/arrayexpress/json/v3/experiments?keywords=cancer+breast\")\n",
    "r1 = conn.getresponse()\n",
    "print(r1.status, r1.reason)\n",
    "jc = r1.read()\n",
    "conn.close()\n",
    "except:"
   ]
  },
  {
   "cell_type": "code",
   "execution_count": 10,
   "metadata": {
    "scrolled": true
   },
   "outputs": [],
   "source": [
    "correct = [] #file url satisfies: https://www.ebi.ac.uk/arrayexpress/files/%s/%s.sdrf.txt\n",
    "miss = [] #file url doesn't satisfy this formation\n",
    "for i in range(len(jsonConfig['experiments']['experiment'])):\n",
    "    id = jsonConfig['experiments']['experiment'][i]['accession']\n",
    "    url= 'https://www.ebi.ac.uk/arrayexpress/files/%s/%s.sdrf.txt'%(id,id)\n",
    "    output = './cancerdl/%s.sdrf.txt'%id\n",
    "    response = requests.get(url)\n",
    "    if response.status_code != 200:\n",
    "        miss.append(i)\n",
    "    else:\n",
    "        correct.append(i)"
   ]
  },
  {
   "cell_type": "code",
   "execution_count": 22,
   "metadata": {},
   "outputs": [],
   "source": [
    "correct = np.array(correct)\n",
    "miss = np.array(miss)"
   ]
  },
  {
   "cell_type": "code",
   "execution_count": 27,
   "metadata": {},
   "outputs": [
    {
     "data": {
      "text/plain": [
       "array([ 338,  371,  660,  810,  833,  893,  957,  984,  991, 1006, 1033,\n",
       "       1035, 1201, 1207, 1216, 1279, 1285, 1302, 1317, 1356, 1376, 1409,\n",
       "       1460, 1482, 1506, 1529, 1633, 1704, 1728, 1933, 2006, 2033, 2117,\n",
       "       2276])"
      ]
     },
     "execution_count": 27,
     "metadata": {},
     "output_type": "execute_result"
    }
   ],
   "source": [
    "miss"
   ]
  },
  {
   "cell_type": "code",
   "execution_count": 37,
   "metadata": {},
   "outputs": [
    {
     "name": "stdout",
     "output_type": "stream",
     "text": [
      "E-GEOD-71901\n",
      "E-GEOD-73871\n",
      "E-GEOD-62907\n",
      "E-GEOD-51783\n",
      "E-GEOD-59937\n",
      "E-GEOD-46073\n",
      "E-GEOD-36526\n",
      "E-GEOD-54126\n",
      "E-GEOD-55711\n",
      "E-GEOD-54892\n",
      "E-GEOD-44089\n",
      "E-GEOD-49345\n",
      "E-GEOD-45342\n",
      "E-GEOD-45715\n",
      "E-GEOD-49955\n",
      "E-GEOD-45853\n",
      "E-GEOD-48931\n",
      "E-GEOD-42349\n",
      "E-GEOD-41793\n",
      "E-GEOD-45137\n",
      "E-GEOD-39418\n",
      "E-GEOD-36598\n",
      "E-GEOD-40767\n",
      "E-GEOD-30407\n",
      "E-GEOD-41617\n",
      "E-GEOD-41653\n",
      "E-GEOD-38912\n",
      "E-GEOD-37955\n",
      "E-GEOD-31130\n",
      "E-GEOD-28008\n",
      "E-GEOD-28789\n",
      "E-GEOD-28884\n",
      "E-GEOD-24509\n",
      "E-GEOD-22610\n"
     ]
    }
   ],
   "source": [
    "for i in range(len(miss)):\n",
    "    id = jsonConfig['experiments']['experiment'][miss[i]]['accession']\n",
    "    print(id)"
   ]
  },
  {
   "cell_type": "code",
   "execution_count": 49,
   "metadata": {},
   "outputs": [
    {
     "name": "stdout",
     "output_type": "stream",
     "text": [
      "100% [................................................................................] 9179 / 9179"
     ]
    }
   ],
   "source": [
    "#direct download\n",
    "for i in range(len(correct)):\n",
    "    id = jsonConfig['experiments']['experiment'][correct[i]]['accession']\n",
    "    url= 'https://www.ebi.ac.uk/arrayexpress/files/%s/%s.sdrf.txt'%(id,id)\n",
    "    output = './cancerdl/%s.sdrf.txt'%id\n",
    "    if os.path.isfile(output)!=1:\n",
    "        wget.download(url,output) #wget - bcs of testing procedures, repeat downloading exists"
   ]
  },
  {
   "cell_type": "code",
   "execution_count": 63,
   "metadata": {},
   "outputs": [
    {
     "name": "stdout",
     "output_type": "stream",
     "text": [
      "100% [........................................................................] 28371973 / 28371973"
     ]
    }
   ],
   "source": [
    "#special url link\n",
    "for i in range(len(miss)):\n",
    "    id = jsonConfig['experiments']['experiment'][miss[i]]['accession']\n",
    "    connect =  \"/arrayexpress/json/v3/files/%s\"%id\n",
    "    conn = http.client.HTTPSConnection(\"www.ebi.ac.uk\")\n",
    "    conn.request(\"GET\", connect) \n",
    "    r1 = conn.getresponse()\n",
    "    jc = r1.read()\n",
    "    conn.close()\n",
    "    test=json.loads(jc)\n",
    "    url = test['files']['experiment']['file']['kind'=='sdrf']['url']\n",
    "    output = './cancerdl/%s.sdrf.txt'%id\n",
    "    if os.path.isfile(output)!=1:\n",
    "        wget.download(url,output) "
   ]
  }
 ],
 "metadata": {
  "kernelspec": {
   "display_name": "Python 3",
   "language": "python",
   "name": "python3"
  },
  "language_info": {
   "codemirror_mode": {
    "name": "ipython",
    "version": 3
   },
   "file_extension": ".py",
   "mimetype": "text/x-python",
   "name": "python",
   "nbconvert_exporter": "python",
   "pygments_lexer": "ipython3",
   "version": "3.7.6"
  }
 },
 "nbformat": 4,
 "nbformat_minor": 4
}
